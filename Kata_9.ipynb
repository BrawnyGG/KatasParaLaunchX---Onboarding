{
 "cells": [
  {
   "cell_type": "markdown",
   "metadata": {},
   "source": [
    "## Ejercicio 1"
   ]
  },
  {
   "cell_type": "code",
   "execution_count": 48,
   "metadata": {},
   "outputs": [
    {
     "data": {
      "text/plain": [
       "'Informe combustible:\\n            el promedio del combustible es de 0.0 litros\\n            primer combustible: 0\\n            segundo combustible: 0\\n            tercer combustible: 0\\n            '"
      ]
     },
     "execution_count": 48,
     "metadata": {},
     "output_type": "execute_result"
    }
   ],
   "source": [
    "# Funcion para 3 tanques...\n",
    "def promedio_combus(com1, com2, com3):\n",
    "    suma_combus = (com1 + com2 + com3) / 3\n",
    "    return f\"\"\"Informe combustible:\n",
    "            el promedio del combustible es de {suma_combus} litros\n",
    "            primer combustible: {com1}\n",
    "            segundo combustible: {com2}\n",
    "            tercer combustible: {com3}\n",
    "            \"\"\"\n",
    "\n",
    "# Llamado de funcion...\n",
    "promedio_combus(0, 0, 0)"
   ]
  },
  {
   "cell_type": "code",
   "execution_count": 99,
   "metadata": {},
   "outputs": [
    {
     "data": {
      "text/plain": [
       "'Informe combustible:\\n            el promedio del combustible es de 55.0 litros\\n            primer combustible: 55\\n            segundo combustible: 55\\n            tercer combustible: 55\\n            '"
      ]
     },
     "execution_count": 99,
     "metadata": {},
     "output_type": "execute_result"
    }
   ],
   "source": [
    "# Mejora de legibilidad...\n",
    "def promedio_combus(combus):\n",
    "    total_combus = sum(combus)\n",
    "    numero_combus = len(combus)\n",
    "    return total_combus / numero_combus\n",
    "\n",
    "# Actualizacion de funcion\n",
    "def informe(com1, com2, com3):\n",
    "    return f\"\"\"Informe combustible:\n",
    "            el promedio del combustible es de {promedio_combus([com1,com2,com3])} litros\n",
    "            primer combustible: {com1}\n",
    "            segundo combustible: {com2}\n",
    "            tercer combustible: {com3}\n",
    "            \"\"\"\n",
    "\n",
    "informe(55,55,55)\n"
   ]
  },
  {
   "cell_type": "markdown",
   "metadata": {},
   "source": [
    "## Ejercicio 2"
   ]
  },
  {
   "cell_type": "code",
   "execution_count": 58,
   "metadata": {},
   "outputs": [
    {
     "data": {
      "text/plain": [
       "'\"\\n    Misión hacia Moon\\n    tiempo total de viaje: 100 minutos\\n    total de gasolina restante: 446 litros\\n    '"
      ]
     },
     "execution_count": 58,
     "metadata": {},
     "output_type": "execute_result"
    }
   ],
   "source": [
    "# Primera funcion sin *arg\n",
    "def informe_lanzamiento(hora_inicio, tiempo_vuelo, destino, tanque_int, tanque_ext):\n",
    "    return f\"\"\"\"\n",
    "    Misión hacia {destino}\n",
    "    tiempo total de viaje: {hora_inicio + tiempo_vuelo} minutos\n",
    "    total de gasolina restante: {tanque_int + tanque_ext} litros\n",
    "    \"\"\"\n",
    "\n",
    "informe_lanzamiento(55, 45, 'Moon', 445, 1)"
   ]
  },
  {
   "cell_type": "code",
   "execution_count": 98,
   "metadata": {},
   "outputs": [
    {
     "name": "stdout",
     "output_type": "stream",
     "text": [
      "al tanque1 le restan 22 litros\n",
      "al tanque2 le restan 44 litros\n"
     ]
    },
    {
     "data": {
      "text/plain": [
       "'\"\\n    Misión hacia moon\\n    tiempo total de viaje: 4564 minutos\\n    total de gasolina restante: 66 litros\\n    '"
      ]
     },
     "execution_count": 98,
     "metadata": {},
     "output_type": "execute_result"
    }
   ],
   "source": [
    "# Primera funcion con *arg\n",
    "def informe_lanzamiento(destino, *tiempo, **tanques):\n",
    "    total_tiempo = sum(tiempo)\n",
    "\n",
    "    for tanque, valor in tanques.items():\n",
    "        print(f'al {tanque} le restan {valor} litros')\n",
    "        \n",
    "    return f\"\"\"\"\n",
    "    Misión hacia {destino}\n",
    "    tiempo total de viaje: {total_tiempo} minutos\n",
    "    total de gasolina restante: {sum(tanques.values())} litros\n",
    "    \"\"\"\n",
    "\n",
    "informe_lanzamiento('moon', 55,4454,55, tanque1 = 22, tanque2 = 44)"
   ]
  },
  {
   "cell_type": "code",
   "execution_count": 87,
   "metadata": {},
   "outputs": [
    {
     "ename": "TypeError",
     "evalue": "unsupported operand type(s) for +: 'int' and 'str'",
     "output_type": "error",
     "traceback": [
      "\u001b[1;31m---------------------------------------------------------------------------\u001b[0m",
      "\u001b[1;31mTypeError\u001b[0m                                 Traceback (most recent call last)",
      "\u001b[1;32mc:\\Users\\Home\\Desktop\\cursoMicrosoft\\Kata_9\\Funciones.ipynb Cell 7'\u001b[0m in \u001b[0;36m<module>\u001b[1;34m\u001b[0m\n\u001b[0;32m      <a href='vscode-notebook-cell:/c%3A/Users/Home/Desktop/cursoMicrosoft/Kata_9/Funciones.ipynb#ch0000008?line=3'>4</a>\u001b[0m         total_tanques \u001b[39m=\u001b[39m \u001b[39msum\u001b[39m(cantidad)\n\u001b[0;32m      <a href='vscode-notebook-cell:/c%3A/Users/Home/Desktop/cursoMicrosoft/Kata_9/Funciones.ipynb#ch0000008?line=4'>5</a>\u001b[0m         \u001b[39mprint\u001b[39m(total_tanques)\n\u001b[1;32m----> <a href='vscode-notebook-cell:/c%3A/Users/Home/Desktop/cursoMicrosoft/Kata_9/Funciones.ipynb#ch0000008?line=6'>7</a>\u001b[0m shalala(tanque1 \u001b[39m=\u001b[39;49m \u001b[39m545\u001b[39;49m, tanque2 \u001b[39m=\u001b[39;49m \u001b[39m22\u001b[39;49m)\n",
      "\u001b[1;32mc:\\Users\\Home\\Desktop\\cursoMicrosoft\\Kata_9\\Funciones.ipynb Cell 7'\u001b[0m in \u001b[0;36mshalala\u001b[1;34m(**tanques)\u001b[0m\n\u001b[0;32m      <a href='vscode-notebook-cell:/c%3A/Users/Home/Desktop/cursoMicrosoft/Kata_9/Funciones.ipynb#ch0000008?line=0'>1</a>\u001b[0m \u001b[39mdef\u001b[39;00m \u001b[39mshalala\u001b[39m(\u001b[39m*\u001b[39m\u001b[39m*\u001b[39mtanques):\n\u001b[0;32m      <a href='vscode-notebook-cell:/c%3A/Users/Home/Desktop/cursoMicrosoft/Kata_9/Funciones.ipynb#ch0000008?line=2'>3</a>\u001b[0m     \u001b[39mfor\u001b[39;00m cantidad \u001b[39min\u001b[39;00m tanques\u001b[39m.\u001b[39mitems():\n\u001b[1;32m----> <a href='vscode-notebook-cell:/c%3A/Users/Home/Desktop/cursoMicrosoft/Kata_9/Funciones.ipynb#ch0000008?line=3'>4</a>\u001b[0m         total_tanques \u001b[39m=\u001b[39m \u001b[39msum\u001b[39;49m(cantidad)\n\u001b[0;32m      <a href='vscode-notebook-cell:/c%3A/Users/Home/Desktop/cursoMicrosoft/Kata_9/Funciones.ipynb#ch0000008?line=4'>5</a>\u001b[0m         \u001b[39mprint\u001b[39m(total_tanques)\n",
      "\u001b[1;31mTypeError\u001b[0m: unsupported operand type(s) for +: 'int' and 'str'"
     ]
    }
   ],
   "source": [
    "def shalala(**tanques):\n",
    "\n",
    "    for cantidad in tanques.items():\n",
    "        total_tanques = sum(cantidad)\n",
    "        print(total_tanques)\n",
    "\n",
    "shalala(tanque1 = 545, tanque2 = 22)"
   ]
  }
 ],
 "metadata": {
  "interpreter": {
   "hash": "0b6ce98c3096834a7a501856e3303731ddbe0942f37d88665ab51c442e15a354"
  },
  "kernelspec": {
   "display_name": "Python 3.10.2 64-bit",
   "language": "python",
   "name": "python3"
  },
  "language_info": {
   "codemirror_mode": {
    "name": "ipython",
    "version": 3
   },
   "file_extension": ".py",
   "mimetype": "text/x-python",
   "name": "python",
   "nbconvert_exporter": "python",
   "pygments_lexer": "ipython3",
   "version": "3.10.2"
  },
  "orig_nbformat": 4
 },
 "nbformat": 4,
 "nbformat_minor": 2
}
