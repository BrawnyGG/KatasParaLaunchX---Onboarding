{
 "cells": [
  {
   "cell_type": "markdown",
   "metadata": {},
   "source": [
    "## Ejercicio 1"
   ]
  },
  {
   "cell_type": "code",
   "execution_count": 17,
   "metadata": {},
   "outputs": [
    {
     "name": "stdout",
     "output_type": "stream",
     "text": [
      "\n",
      "on average, the moon moves 4cm away from the earth every year\n",
      "the highest daylight temperature of the moon is 127 c.\n",
      "\n",
      "on average, the moon moves 4celsiusm away from the earth every year\n",
      "the highest daylight temperature of the moon is 127 celsius.\n"
     ]
    }
   ],
   "source": [
    "text = \"\"\"Interesting facts about the Moon. The Moon is Earth's only satellite. There are several interesting facts about the Moon and how it affects life here on Earth. \n",
    "On average, the Moon moves 4cm away from the Earth every year. This yearly drift is not significant enough to cause immediate effects on Earth. The highest daylight temperature of the Moon is 127 C.\"\"\".lower()\n",
    "\n",
    "# texto dividido en oracion\n",
    "division = text.split(\". \")\n",
    "\n",
    "# definicion de palabras clave\n",
    "palabrasClave = [\"average\", \"temperature\", \"distance\"]\n",
    "\n",
    "# impresión palabras clave jaj\n",
    "for element in division:         # busca dentro de todas mis oraciones\n",
    "    for claves in palabrasClave: # busca todas las palabras de mis palabras clave\n",
    "        if claves in element:    # hace que si existe una palabra clave dentro de mi division, imprimirá la division\n",
    "            print(element)\n",
    "            break\n",
    "            \n",
    "# ciclo para cambiar c a celcius...\n",
    "for element in division:         \n",
    "    for temp in palabrasClave:           \n",
    "        if temp in element:\n",
    "            print(element.replace(\"c\", \"celsius\")) # este codigo hará lo mismo que el anterioir, solo que cuando se imprima, reemplazara los c por celsius\n",
    "            break"
   ]
  },
  {
   "cell_type": "markdown",
   "metadata": {},
   "source": [
    "## Ejercicio 2"
   ]
  },
  {
   "cell_type": "code",
   "execution_count": 66,
   "metadata": {},
   "outputs": [
    {
     "name": "stdout",
     "output_type": "stream",
     "text": [
      "La Gravedad Dentro De Luna\n",
      "\"////////////////////////////////////////////////////////////////////////////////\n",
      "Nombre Del Planeta: Tierra\n",
      "La Gravedad Dentro De Luna Es De: 1.6199999999999999 M/S^2\n",
      "La gravedad dentro de Ganímedes\n",
      "////////////////////////////////////////////////////////////////////////////////\n",
      "nombre del planeta: Marte\n",
      "la gravedad dentro de Ganímedes es de: 1.4300000000000002 m/s^2\n"
     ]
    }
   ],
   "source": [
    "# Datos con los que vas a trabajar\n",
    "name = \"Luna\"\n",
    "gravity = 0.00162 # in kms\n",
    "planet = \"Tierra\"\n",
    "\n",
    "# título\n",
    "titulo = f\"La gravedad dentro de {name}\"\n",
    "informacion = f\"\"\"\"{'/' * 80}\n",
    "nombre del planeta: {planet}\n",
    "la gravedad dentro de {name} es de: {gravity*1000} m/s^2\"\"\"\n",
    "\n",
    "# union de los titulos\n",
    "union = f\"\"\"{titulo.title()}\n",
    "{informacion.title()}\"\"\"\n",
    "\n",
    "print(union)\n",
    "\n",
    "#comprobacion plantilla\n",
    "name = \"Ganímedes\"\n",
    "gravity = 0.00143\n",
    "planet = \"Marte\"\n",
    "separacion = \"/\" * 80\n",
    "\n",
    "# plantilla con .format()\n",
    "plantillaNueva = \"\"\"La gravedad dentro de {0}\n",
    "{1}\n",
    "nombre del planeta: {2}\n",
    "la gravedad dentro de {0} es de: {3} m/s^2\"\"\".format(name, separacion, planet, gravity * 1000)\n",
    "\n",
    "print(plantillaNueva)"
   ]
  }
 ],
 "metadata": {
  "interpreter": {
   "hash": "0b6ce98c3096834a7a501856e3303731ddbe0942f37d88665ab51c442e15a354"
  },
  "kernelspec": {
   "display_name": "Python 3.10.2 64-bit",
   "language": "python",
   "name": "python3"
  },
  "language_info": {
   "codemirror_mode": {
    "name": "ipython",
    "version": 3
   },
   "file_extension": ".py",
   "mimetype": "text/x-python",
   "name": "python",
   "nbconvert_exporter": "python",
   "pygments_lexer": "ipython3",
   "version": "3.10.2"
  },
  "orig_nbformat": 4
 },
 "nbformat": 4,
 "nbformat_minor": 2
}
