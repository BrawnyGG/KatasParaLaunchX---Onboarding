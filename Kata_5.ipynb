{
 "cells": [
  {
   "cell_type": "code",
   "execution_count": 25,
   "metadata": {},
   "outputs": [
    {
     "name": "stdout",
     "output_type": "stream",
     "text": [
      "La distancia es de 1025365000 km\n",
      "Distancia en millas: 636751665 mll\n"
     ]
    }
   ],
   "source": [
    "var1 = input(\"¿cual es la primera distancia?\")\n",
    "var2 = input(\"¿cual es la segunda distancia?\")\n",
    "distancia1 = int(var1)\n",
    "distancia2 = int(var2)\n",
    "resultado_km = abs(distancia1 - distancia2)\n",
    "resultado_mll = round(resultado_km * 0.621)\n",
    "print(\"La distancia es de:\", resultado_km, \"km\")\n",
    "print(\"Distancia en millas:\", resultado_mll, \"mll\" )"
   ]
  }
 ],
 "metadata": {
  "interpreter": {
   "hash": "0b6ce98c3096834a7a501856e3303731ddbe0942f37d88665ab51c442e15a354"
  },
  "kernelspec": {
   "display_name": "Python 3.10.2 64-bit",
   "language": "python",
   "name": "python3"
  },
  "language_info": {
   "codemirror_mode": {
    "name": "ipython",
    "version": 3
   },
   "file_extension": ".py",
   "mimetype": "text/x-python",
   "name": "python",
   "nbconvert_exporter": "python",
   "pygments_lexer": "ipython3",
   "version": "3.10.2"
  },
  "orig_nbformat": 4
 },
 "nbformat": 4,
 "nbformat_minor": 2
}
