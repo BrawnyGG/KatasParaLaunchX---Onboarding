{
 "cells": [
  {
   "cell_type": "code",
   "execution_count": 35,
   "metadata": {},
   "outputs": [
    {
     "name": "stdout",
     "output_type": "stream",
     "text": [
      "existen 8 planetas en el sistema solar\n",
      "existen 9 planetas contando a Pluto\n",
      "los planetas mas cercanos al sol a partir de Mars son:\n",
      "['Mercury', 'Venus', 'Earth']\n",
      "los planetas mas lejanos al sol a partir de Mars son:\n",
      "['Jupiter', 'Saturn', 'Uranus', 'Neptune', 'Pluto']\n"
     ]
    }
   ],
   "source": [
    "planets = ['Mercury', 'Venus', 'Earth', 'Mars', 'Jupiter', 'Saturn', 'Uranus', 'Neptune']\n",
    "print(\"existen\", len(planets), \"planetas en el sistema solar\")\n",
    "\n",
    "#Agregamos a pluton...\n",
    "planets.append(\"Pluto\")\n",
    "print(\"existen\", len(planets), \"planetas contando a\", planets[-1])\n",
    "\n",
    "#Solicitud al usuario...\n",
    "new_planet = input(\"Coloca el nombre de un planeta, empezando con mayúscula\")\n",
    "\n",
    "#Busqueda del planeta...\n",
    "num_planeta = planets.index(new_planet)\n",
    "\n",
    "#Mostrar planetas mas cercanos al sol del planeta que el usuario eligió...\n",
    "print(\"los planetas mas cercanos al sol a partir de\", new_planet, \"son:\")\n",
    "print(planets[0:num_planeta])\n",
    "\n",
    "#Mostrar planetas mas lejanos al sol del planeta que el usuario eligió...\n",
    "print(\"los planetas mas lejanos al sol a partir de\", new_planet, \"son:\")\n",
    "print(planets[num_planeta + 1:])"
   ]
  }
 ],
 "metadata": {
  "interpreter": {
   "hash": "0b6ce98c3096834a7a501856e3303731ddbe0942f37d88665ab51c442e15a354"
  },
  "kernelspec": {
   "display_name": "Python 3.10.2 64-bit",
   "language": "python",
   "name": "python3"
  },
  "language_info": {
   "codemirror_mode": {
    "name": "ipython",
    "version": 3
   },
   "file_extension": ".py",
   "mimetype": "text/x-python",
   "name": "python",
   "nbconvert_exporter": "python",
   "pygments_lexer": "ipython3",
   "version": "3.10.2"
  },
  "orig_nbformat": 4
 },
 "nbformat": 4,
 "nbformat_minor": 2
}
