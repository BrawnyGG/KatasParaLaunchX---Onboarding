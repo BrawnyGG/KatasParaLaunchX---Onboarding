{
 "cells": [
  {
   "cell_type": "markdown",
   "metadata": {},
   "source": [
    "## Primer ejercicio\n"
   ]
  },
  {
   "cell_type": "code",
   "execution_count": 25,
   "metadata": {},
   "outputs": [
    {
     "name": "stdout",
     "output_type": "stream",
     "text": [
      "¡el asteoride va a 49km/h!, HAY PELIGRO\n"
     ]
    }
   ],
   "source": [
    "velAsteroide = 49\n",
    "\n",
    "if velAsteroide < 25:\n",
    "    print('el asteoride va a ' + str(velAsteroide) + 'km/h, no presenta ningun peligro')\n",
    "else:\n",
    "    print('¡el asteoride va a ' + str(velAsteroide) + 'km/h!, HAY PELIGRO')"
   ]
  },
  {
   "cell_type": "markdown",
   "metadata": {},
   "source": [
    "## Segundo ejercicio"
   ]
  },
  {
   "cell_type": "code",
   "execution_count": 29,
   "metadata": {},
   "outputs": [
    {
     "name": "stdout",
     "output_type": "stream",
     "text": [
      "El asteroide no es visible...\n"
     ]
    }
   ],
   "source": [
    "velocidadA = 19\n",
    "if velocidadA >= 20:\n",
    "    print('¡Hay uno que se dirige a la tierra ahora a una velocidad de ' + str(velocidadA) + 'km/s!')\n",
    "else:\n",
    "    print('El asteroide no es visible...')"
   ]
  },
  {
   "cell_type": "markdown",
   "metadata": {},
   "source": [
    "## Tercer ejercicio\n"
   ]
  },
  {
   "cell_type": "code",
   "execution_count": 63,
   "metadata": {},
   "outputs": [
    {
     "name": "stdout",
     "output_type": "stream",
     "text": [
      "Este asteroide impactará la tierra! y hará mucho daño por su tamaño de 200 metros!\n"
     ]
    }
   ],
   "source": [
    "velocidad_asteroide = 99\n",
    "tamano_asteroide = 200\n",
    "\n",
    "if tamano_asteroide >= 25 and velocidad_asteroide > 25:\n",
    "    print(\"Este asteroide impactará la tierra! y hará mucho daño por su tamaño de\", tamano_asteroide, \"metros!\")\n",
    "elif velocidad_asteroide >= 20:\n",
    "    print(\"mira arriba! se observa una luz!\")\n",
    "elif tamano_asteroide < 25:\n",
    "    print(\"El asteroide no representa ningun peligro, se desintegrará por su tamaño de\", tamano_asteroide, \"metros\")\n",
    "else:\n",
    "    print(\"No hay nada de que preocuparse\")\n",
    "\n"
   ]
  }
 ],
 "metadata": {
  "interpreter": {
   "hash": "0b6ce98c3096834a7a501856e3303731ddbe0942f37d88665ab51c442e15a354"
  },
  "kernelspec": {
   "display_name": "Python 3.10.2 64-bit",
   "language": "python",
   "name": "python3"
  },
  "language_info": {
   "name": "python",
   "version": "3.10.2"
  },
  "orig_nbformat": 4
 },
 "nbformat": 4,
 "nbformat_minor": 2
}
